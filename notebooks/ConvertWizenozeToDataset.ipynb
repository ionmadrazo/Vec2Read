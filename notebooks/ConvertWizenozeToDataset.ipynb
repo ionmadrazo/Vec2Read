{
 "cells": [
  {
   "cell_type": "code",
   "execution_count": 25,
   "metadata": {},
   "outputs": [],
   "source": [
    "import pandas as pd\n",
    "from tqdm import tqdm_notebook\n",
    "import os, errno\n",
    "import json\n",
    "try:\n",
    "    os.makedirs(directory)\n",
    "except:\n",
    "    pass"
   ]
  },
  {
   "cell_type": "code",
   "execution_count": 26,
   "metadata": {},
   "outputs": [
    {
     "data": {
      "application/vnd.jupyter.widget-view+json": {
       "model_id": "4b812f1bf59c4b389e733f45e602265d",
       "version_major": 2,
       "version_minor": 0
      },
      "text/plain": [
       "HBox(children=(IntProgress(value=1, bar_style='info', max=1), HTML(value='')))"
      ]
     },
     "metadata": {},
     "output_type": "display_data"
    },
    {
     "name": "stdout",
     "output_type": "stream",
     "text": [
      "\n"
     ]
    }
   ],
   "source": [
    "with open(\"../data/readabilityCorpora/wizenoze/WebForClassroomsSample/WebForClassroomsENsample.json\",encoding=\"utf-8\") as f:\n",
    "    data = json.load(f)\n",
    "\n",
    "baseInputDir = \"../data/readabilityCorpora/newsela/newsela_article_corpus_2016-01-29/articles/\"\n",
    "baseOutputDir = \"../data/readabilityCorpora/wizenoze/raw\"\n",
    "for idx, doc in tqdm_notebook(enumerate(data[\"hits\"])):\n",
    "    lang = \"en\"\n",
    "    grade = doc[\"_source\"][\"readingLevel\"]\n",
    "    filename = \"{}.txt\".format(idx)\n",
    "    text = doc[\"_source\"][\"bodyText\"]\n",
    "    outputDir = \"{}/{}/{}/\".format(baseOutputDir,lang,grade) \n",
    "    try:\n",
    "        os.makedirs(outputDir)\n",
    "    except:\n",
    "        pass\n",
    "        with open(outputDir+filename,\"w\",encoding=\"utf-8\") as fout:\n",
    "            fout.write(text)\n",
    "    \n",
    "    "
   ]
  },
  {
   "cell_type": "code",
   "execution_count": 27,
   "metadata": {},
   "outputs": [
    {
     "data": {
      "application/vnd.jupyter.widget-view+json": {
       "model_id": "e23cb3d6235a47a79768f2c88073054d",
       "version_major": 2,
       "version_minor": 0
      },
      "text/plain": [
       "HBox(children=(IntProgress(value=1, bar_style='info', max=1), HTML(value='')))"
      ]
     },
     "metadata": {},
     "output_type": "display_data"
    },
    {
     "name": "stdout",
     "output_type": "stream",
     "text": [
      "\n"
     ]
    }
   ],
   "source": [
    "with open(\"../data/readabilityCorpora/wizenoze/WebForClassroomsSample/WebForClassroomsNLsample.json\",encoding=\"utf-8\") as f:\n",
    "    data = json.load(f)\n",
    "\n",
    "baseInputDir = \"../data/readabilityCorpora/newsela/newsela_article_corpus_2016-01-29/articles/\"\n",
    "baseOutputDir = \"../data/readabilityCorpora/wizenoze/raw\"\n",
    "for idx, doc in tqdm_notebook(enumerate(data[\"hits\"])):\n",
    "    lang = \"du\"\n",
    "    grade = doc[\"_source\"][\"readingLevel\"]\n",
    "    filename = \"{}.txt\".format(idx)\n",
    "    text = doc[\"_source\"][\"bodyText\"]\n",
    "    outputDir = \"{}/{}/{}/\".format(baseOutputDir,lang,grade) \n",
    "    try:\n",
    "        os.makedirs(outputDir)\n",
    "    except:\n",
    "        pass\n",
    "        with open(outputDir+filename,\"w\",encoding=\"utf-8\") as fout:\n",
    "            fout.write(text)"
   ]
  },
  {
   "cell_type": "code",
   "execution_count": null,
   "metadata": {},
   "outputs": [],
   "source": []
  }
 ],
 "metadata": {
  "kernelspec": {
   "display_name": "Python 3",
   "language": "python",
   "name": "python3"
  },
  "language_info": {
   "codemirror_mode": {
    "name": "ipython",
    "version": 3
   },
   "file_extension": ".py",
   "mimetype": "text/x-python",
   "name": "python",
   "nbconvert_exporter": "python",
   "pygments_lexer": "ipython3",
   "version": "3.7.0"
  }
 },
 "nbformat": 4,
 "nbformat_minor": 2
}
