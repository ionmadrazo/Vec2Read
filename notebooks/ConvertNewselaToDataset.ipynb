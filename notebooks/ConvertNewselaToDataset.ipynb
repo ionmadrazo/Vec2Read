{
 "cells": [
  {
   "cell_type": "code",
   "execution_count": 1,
   "metadata": {},
   "outputs": [],
   "source": [
    "import pandas as pd\n",
    "from tqdm import tqdm_notebook\n",
    "import os, errno\n",
    "\n",
    "try:\n",
    "    os.makedirs(directory)\n",
    "except:\n",
    "    pass"
   ]
  },
  {
   "cell_type": "code",
   "execution_count": 10,
   "metadata": {},
   "outputs": [
    {
     "data": {
      "text/html": [
       "<div>\n",
       "<style scoped>\n",
       "    .dataframe tbody tr th:only-of-type {\n",
       "        vertical-align: middle;\n",
       "    }\n",
       "\n",
       "    .dataframe tbody tr th {\n",
       "        vertical-align: top;\n",
       "    }\n",
       "\n",
       "    .dataframe thead th {\n",
       "        text-align: right;\n",
       "    }\n",
       "</style>\n",
       "<table border=\"1\" class=\"dataframe\">\n",
       "  <thead>\n",
       "    <tr style=\"text-align: right;\">\n",
       "      <th></th>\n",
       "      <th>slug</th>\n",
       "      <th>language</th>\n",
       "      <th>title</th>\n",
       "      <th>grade_level</th>\n",
       "      <th>version</th>\n",
       "      <th>filename</th>\n",
       "    </tr>\n",
       "  </thead>\n",
       "  <tbody>\n",
       "    <tr>\n",
       "      <th>0</th>\n",
       "      <td>10dollarbill-woman</td>\n",
       "      <td>en</td>\n",
       "      <td>Tubman, Perkins or Roosevelt? Woman on $10 bil...</td>\n",
       "      <td>12.0</td>\n",
       "      <td>0</td>\n",
       "      <td>10dollarbill-woman.en.0.txt</td>\n",
       "    </tr>\n",
       "    <tr>\n",
       "      <th>1</th>\n",
       "      <td>10dollarbill-woman</td>\n",
       "      <td>en</td>\n",
       "      <td>Americans weigh in to choose the woman who wil...</td>\n",
       "      <td>8.0</td>\n",
       "      <td>1</td>\n",
       "      <td>10dollarbill-woman.en.1.txt</td>\n",
       "    </tr>\n",
       "    <tr>\n",
       "      <th>2</th>\n",
       "      <td>10dollarbill-woman</td>\n",
       "      <td>en</td>\n",
       "      <td>The $10 question: Who will be the new face on ...</td>\n",
       "      <td>6.0</td>\n",
       "      <td>2</td>\n",
       "      <td>10dollarbill-woman.en.2.txt</td>\n",
       "    </tr>\n",
       "    <tr>\n",
       "      <th>3</th>\n",
       "      <td>10dollarbill-woman</td>\n",
       "      <td>en</td>\n",
       "      <td>New $10 bill will have a theme and a woman's p...</td>\n",
       "      <td>5.0</td>\n",
       "      <td>3</td>\n",
       "      <td>10dollarbill-woman.en.3.txt</td>\n",
       "    </tr>\n",
       "    <tr>\n",
       "      <th>4</th>\n",
       "      <td>10dollarbill-woman</td>\n",
       "      <td>en</td>\n",
       "      <td>We will soon have an American woman's face on ...</td>\n",
       "      <td>3.0</td>\n",
       "      <td>4</td>\n",
       "      <td>10dollarbill-woman.en.4.txt</td>\n",
       "    </tr>\n",
       "  </tbody>\n",
       "</table>\n",
       "</div>"
      ],
      "text/plain": [
       "                 slug language  \\\n",
       "0  10dollarbill-woman       en   \n",
       "1  10dollarbill-woman       en   \n",
       "2  10dollarbill-woman       en   \n",
       "3  10dollarbill-woman       en   \n",
       "4  10dollarbill-woman       en   \n",
       "\n",
       "                                               title  grade_level  version  \\\n",
       "0  Tubman, Perkins or Roosevelt? Woman on $10 bil...         12.0        0   \n",
       "1  Americans weigh in to choose the woman who wil...          8.0        1   \n",
       "2  The $10 question: Who will be the new face on ...          6.0        2   \n",
       "3  New $10 bill will have a theme and a woman's p...          5.0        3   \n",
       "4  We will soon have an American woman's face on ...          3.0        4   \n",
       "\n",
       "                      filename  \n",
       "0  10dollarbill-woman.en.0.txt  \n",
       "1  10dollarbill-woman.en.1.txt  \n",
       "2  10dollarbill-woman.en.2.txt  \n",
       "3  10dollarbill-woman.en.3.txt  \n",
       "4  10dollarbill-woman.en.4.txt  "
      ]
     },
     "execution_count": 10,
     "metadata": {},
     "output_type": "execute_result"
    }
   ],
   "source": [
    "df = pd.read_csv(\"../data/readabilityCorpora/newsela/newsela_article_corpus_2016-01-29/articles_metadata.csv\")\n",
    "df[:5]"
   ]
  },
  {
   "cell_type": "code",
   "execution_count": 31,
   "metadata": {},
   "outputs": [
    {
     "data": {
      "application/vnd.jupyter.widget-view+json": {
       "model_id": "c6a954c3daf4451ea22db8e5a2cdb32f",
       "version_major": 2,
       "version_minor": 0
      },
      "text/plain": [
       "HBox(children=(IntProgress(value=1, bar_style='info', max=1), HTML(value='')))"
      ]
     },
     "metadata": {},
     "output_type": "display_data"
    },
    {
     "name": "stdout",
     "output_type": "stream",
     "text": [
      "\n"
     ]
    }
   ],
   "source": [
    "baseInputDir = \"../data/readabilityCorpora/newsela/newsela_article_corpus_2016-01-29/articles/\"\n",
    "baseOutputDir = \"../data/readabilityCorpora/newsela/raw/\"\n",
    "for index, row in tqdm_notebook(df.iterrows()):\n",
    "    lang = row.language\n",
    "    grade = row.grade_level\n",
    "    filename = row.filename\n",
    "    \n",
    "    outputDir = baseOutputDir + lang + \"/\" + str(grade).replace(\".\",\"_\") + \"/\"\n",
    "    try:\n",
    "        os.makedirs(outputDir)\n",
    "    except:\n",
    "        pass\n",
    "    with open(baseInputDir+filename,encoding=\"utf-8\") as fin:\n",
    "        with open(outputDir+filename,\"w\",encoding=\"utf-8\") as fout:\n",
    "            for line in fin.readlines():\n",
    "                if (not line.startswith(\"##\")) and len(line.strip().replace(\"\\n\",\"\"))>3:\n",
    "                    fout.write(line.strip().replace(\"\\n\",\"\")+\" \")\n",
    "    \n",
    "    "
   ]
  },
  {
   "cell_type": "code",
   "execution_count": null,
   "metadata": {},
   "outputs": [],
   "source": []
  }
 ],
 "metadata": {
  "kernelspec": {
   "display_name": "Python 3",
   "language": "python",
   "name": "python3"
  },
  "language_info": {
   "codemirror_mode": {
    "name": "ipython",
    "version": 3
   },
   "file_extension": ".py",
   "mimetype": "text/x-python",
   "name": "python",
   "nbconvert_exporter": "python",
   "pygments_lexer": "ipython3",
   "version": "3.7.0"
  }
 },
 "nbformat": 4,
 "nbformat_minor": 2
}
