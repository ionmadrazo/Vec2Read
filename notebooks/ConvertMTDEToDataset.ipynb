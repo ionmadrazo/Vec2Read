{
 "cells": [
  {
   "cell_type": "code",
   "execution_count": 2,
   "metadata": {},
   "outputs": [],
   "source": [
    "import pandas as pd\n",
    "from tqdm import tqdm_notebook\n",
    "import os, errno\n",
    "\n",
    "try:\n",
    "    os.makedirs(directory)\n",
    "except:\n",
    "    pass"
   ]
  },
  {
   "cell_type": "code",
   "execution_count": 4,
   "metadata": {},
   "outputs": [
    {
     "data": {
      "text/html": [
       "<div>\n",
       "<style scoped>\n",
       "    .dataframe tbody tr th:only-of-type {\n",
       "        vertical-align: middle;\n",
       "    }\n",
       "\n",
       "    .dataframe tbody tr th {\n",
       "        vertical-align: top;\n",
       "    }\n",
       "\n",
       "    .dataframe thead th {\n",
       "        text-align: right;\n",
       "    }\n",
       "</style>\n",
       "<table border=\"1\" class=\"dataframe\">\n",
       "  <thead>\n",
       "    <tr style=\"text-align: right;\">\n",
       "      <th></th>\n",
       "      <th>filename</th>\n",
       "      <th>assessment</th>\n",
       "    </tr>\n",
       "  </thead>\n",
       "  <tbody>\n",
       "    <tr>\n",
       "      <th>0</th>\n",
       "      <td>A00</td>\n",
       "      <td>0.423077</td>\n",
       "    </tr>\n",
       "    <tr>\n",
       "      <th>1</th>\n",
       "      <td>A0A</td>\n",
       "      <td>0.057692</td>\n",
       "    </tr>\n",
       "    <tr>\n",
       "      <th>2</th>\n",
       "      <td>A0J</td>\n",
       "      <td>0.696078</td>\n",
       "    </tr>\n",
       "    <tr>\n",
       "      <th>3</th>\n",
       "      <td>A0K</td>\n",
       "      <td>0.078431</td>\n",
       "    </tr>\n",
       "    <tr>\n",
       "      <th>4</th>\n",
       "      <td>A0P</td>\n",
       "      <td>0.269231</td>\n",
       "    </tr>\n",
       "  </tbody>\n",
       "</table>\n",
       "</div>"
      ],
      "text/plain": [
       "  filename  assessment\n",
       "0      A00    0.423077\n",
       "1      A0A    0.057692\n",
       "2      A0J    0.696078\n",
       "3      A0K    0.078431\n",
       "4      A0P    0.269231"
      ]
     },
     "execution_count": 4,
     "metadata": {},
     "output_type": "execute_result"
    }
   ],
   "source": [
    "df = pd.read_csv(\"../data/readabilityCorpora/englishDutch/allMixedUp/COLI_datasets/COLI_datasets/ENGLISH/assessments/regression_english\",sep=\" \")\n",
    "df[:5]"
   ]
  },
  {
   "cell_type": "code",
   "execution_count": 5,
   "metadata": {},
   "outputs": [],
   "source": [
    "def getClassName(score=0.0):\n",
    "    if score <=0.25:\n",
    "        return \"0-25\"\n",
    "    elif score <=0.50:\n",
    "        return \"26-50\"\n",
    "    elif score <=0.75:\n",
    "        return \"51-75\"\n",
    "    else:\n",
    "        return \"76-100\""
   ]
  },
  {
   "cell_type": "code",
   "execution_count": 12,
   "metadata": {},
   "outputs": [
    {
     "data": {
      "application/vnd.jupyter.widget-view+json": {
       "model_id": "4baa842ce4b343c6b03a14ec999eb105",
       "version_major": 2,
       "version_minor": 0
      },
      "text/plain": [
       "HBox(children=(IntProgress(value=1, bar_style='info', max=1), HTML(value='')))"
      ]
     },
     "metadata": {},
     "output_type": "display_data"
    },
    {
     "name": "stdout",
     "output_type": "stream",
     "text": [
      "\n"
     ]
    }
   ],
   "source": [
    "baseInputDir = \"../data/readabilityCorpora/englishDutch/allMixedUp/COLI_datasets/COLI_datasets/ENGLISH/texts/\"\n",
    "baseOutputDir = \"../data/readabilityCorpora/englishDutch/raw_4chunks/\"\n",
    "for index, row in tqdm_notebook(df.iterrows()):\n",
    "    lang = \"en\"\n",
    "    grade = getClassName(float(row.assessment))\n",
    "    filename = row.filename.replace(\"sen-\",\"sen_\")\n",
    "    \n",
    "    outputDir = baseOutputDir + lang + \"/\" + str(grade).replace(\".\",\"_\") + \"/\"\n",
    "    try:\n",
    "        os.makedirs(outputDir)\n",
    "    except:\n",
    "        pass\n",
    "    with open(baseInputDir+filename+\".txt\",encoding=\"utf-8\") as fin:\n",
    "        with open(outputDir+filename+\".txt\",\"w\",encoding=\"utf-8\") as fout:\n",
    "            for line in fin.readlines():\n",
    "                if (not line.startswith(\"##\")) and len(line.strip().replace(\"\\n\",\"\"))>3:\n",
    "                    fout.write(line.strip().replace(\"\\n\",\"\")+\" \")\n",
    "    \n",
    "    "
   ]
  },
  {
   "cell_type": "code",
   "execution_count": 15,
   "metadata": {},
   "outputs": [
    {
     "data": {
      "text/html": [
       "<div>\n",
       "<style scoped>\n",
       "    .dataframe tbody tr th:only-of-type {\n",
       "        vertical-align: middle;\n",
       "    }\n",
       "\n",
       "    .dataframe tbody tr th {\n",
       "        vertical-align: top;\n",
       "    }\n",
       "\n",
       "    .dataframe thead th {\n",
       "        text-align: right;\n",
       "    }\n",
       "</style>\n",
       "<table border=\"1\" class=\"dataframe\">\n",
       "  <thead>\n",
       "    <tr style=\"text-align: right;\">\n",
       "      <th></th>\n",
       "      <th>filename</th>\n",
       "      <th>assessment</th>\n",
       "    </tr>\n",
       "  </thead>\n",
       "  <tbody>\n",
       "    <tr>\n",
       "      <th>0</th>\n",
       "      <td>WR-P-E-J-0000000003_1</td>\n",
       "      <td>0.230769</td>\n",
       "    </tr>\n",
       "    <tr>\n",
       "      <th>1</th>\n",
       "      <td>WR-P-E-J-0000000005_1</td>\n",
       "      <td>0.115385</td>\n",
       "    </tr>\n",
       "    <tr>\n",
       "      <th>2</th>\n",
       "      <td>WR-P-E-J-0000000014_1</td>\n",
       "      <td>0.067308</td>\n",
       "    </tr>\n",
       "    <tr>\n",
       "      <th>3</th>\n",
       "      <td>WR-P-E-J-0000000023_1</td>\n",
       "      <td>0.134615</td>\n",
       "    </tr>\n",
       "    <tr>\n",
       "      <th>4</th>\n",
       "      <td>WR-P-E-J-0000000024_1</td>\n",
       "      <td>0.278846</td>\n",
       "    </tr>\n",
       "  </tbody>\n",
       "</table>\n",
       "</div>"
      ],
      "text/plain": [
       "                filename  assessment\n",
       "0  WR-P-E-J-0000000003_1    0.230769\n",
       "1  WR-P-E-J-0000000005_1    0.115385\n",
       "2  WR-P-E-J-0000000014_1    0.067308\n",
       "3  WR-P-E-J-0000000023_1    0.134615\n",
       "4  WR-P-E-J-0000000024_1    0.278846"
      ]
     },
     "execution_count": 15,
     "metadata": {},
     "output_type": "execute_result"
    }
   ],
   "source": [
    "df = pd.read_csv(\"../data/readabilityCorpora/englishDutch/allMixedUp/COLI_datasets/COLI_datasets/DUTCH/assessments/regression_dutch\",sep=\" \")\n",
    "df[:5]"
   ]
  },
  {
   "cell_type": "code",
   "execution_count": 16,
   "metadata": {},
   "outputs": [
    {
     "data": {
      "application/vnd.jupyter.widget-view+json": {
       "model_id": "a43d633968544bbba6a8f3207283b344",
       "version_major": 2,
       "version_minor": 0
      },
      "text/plain": [
       "HBox(children=(IntProgress(value=1, bar_style='info', max=1), HTML(value='')))"
      ]
     },
     "metadata": {},
     "output_type": "display_data"
    },
    {
     "name": "stdout",
     "output_type": "stream",
     "text": [
      "\n"
     ]
    }
   ],
   "source": [
    "baseInputDir = \"../data/readabilityCorpora/englishDutch/allMixedUp/COLI_datasets/COLI_datasets/DUTCH/texts/\"\n",
    "baseOutputDir = \"../data/readabilityCorpora/englishDutch/raw_4chunks/\"\n",
    "for index, row in tqdm_notebook(df.iterrows()):\n",
    "    lang = \"du\"\n",
    "    grade = getClassName(float(row.assessment))\n",
    "    filename = row.filename.replace(\"sen-\",\"sen_\")\n",
    "    \n",
    "    outputDir = baseOutputDir + lang + \"/\" + str(grade).replace(\".\",\"_\") + \"/\"\n",
    "    try:\n",
    "        os.makedirs(outputDir)\n",
    "    except:\n",
    "        pass\n",
    "    with open(baseInputDir+filename+\".txt\",encoding=\"utf-8\") as fin:\n",
    "        with open(outputDir+filename+\".txt\",\"w\",encoding=\"utf-8\") as fout:\n",
    "            for line in fin.readlines():\n",
    "                if (not line.startswith(\"##\")) and len(line.strip().replace(\"\\n\",\"\"))>3:\n",
    "                    fout.write(line.strip().replace(\"\\n\",\"\")+\" \")\n",
    "    \n",
    "    "
   ]
  },
  {
   "cell_type": "code",
   "execution_count": null,
   "metadata": {},
   "outputs": [],
   "source": []
  }
 ],
 "metadata": {
  "kernelspec": {
   "display_name": "Python 3",
   "language": "python",
   "name": "python3"
  },
  "language_info": {
   "codemirror_mode": {
    "name": "ipython",
    "version": 3
   },
   "file_extension": ".py",
   "mimetype": "text/x-python",
   "name": "python",
   "nbconvert_exporter": "python",
   "pygments_lexer": "ipython3",
   "version": "3.7.0"
  }
 },
 "nbformat": 4,
 "nbformat_minor": 2
}
