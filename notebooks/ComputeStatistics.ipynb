{
 "cells": [
  {
   "cell_type": "code",
   "execution_count": 1,
   "metadata": {},
   "outputs": [],
   "source": [
    "from urllib.parse import urlencode\n",
    "from urllib.request import Request, urlopen\n",
    "import json\n",
    "import os\n",
    "import spacy\n",
    "import re\n",
    "from os import listdir\n",
    "from os.path import isfile, join\n",
    "from tqdm import tqdm_notebook\n",
    "import os.path\n",
    "import time\n",
    "import pyphen\n",
    "def loadDocsFromFolder(folder=\"\"):\n",
    "    allDocs = {}\n",
    "    for root, subFolders, files in os.walk(folder):\n",
    "        for filename in files:\n",
    "            text= open(root+\"/\"+filename, 'r', encoding=\"utf8\").read()\n",
    "            allDocs[filename]=text\n",
    "    return allDocs\n",
    "def removeCitations(text=\"\"):\n",
    "    text= re.sub(r'\\[\\d+\\]', '', text)\n",
    "    return text\n",
    "\n",
    "class Tokenizer:\n",
    "    \n",
    "    def __init__(self,lang=\"en\"):\n",
    "        \"\"\"\n",
    "        :param config:\n",
    "        \"\"\"\n",
    "\n",
    "        self.spacy_nlp = spacy.load('en')\n",
    "        self.syllableSplitter = pyphen.Pyphen(lang=lang)\n",
    "\n",
    "    def tokenize(self, input):\n",
    "        return [x.text for x in self.spacy_nlp.tokenizer(input) if x.text != \" \"]\n",
    "    \n",
    "    def splitIntoSyllables(self,token):\n",
    "        return self.syllableSplitter.inserted(token).split(\"-\")\n",
    "\n",
    "    def split_sentences(self, input):\n",
    "        return [x.text for x in self.spacy_nlp(input).sents if x.text != \" \"]\n",
    "tokenizer = Tokenizer()"
   ]
  },
  {
   "cell_type": "code",
   "execution_count": 4,
   "metadata": {},
   "outputs": [],
   "source": [
    "def computeStatsForDoc(doc):\n",
    "    stats={}\n",
    "    stats[\"words\"] = 0\n",
    "    stats[\"sentences\"] = 0\n",
    "    stats[\"characters\"] =0\n",
    "    stats[\"syllables\"]=0\n",
    "    uniqueWords = set()\n",
    "    for sentence in tokenizer.split_sentences(doc):\n",
    "        stats[\"sentences\"] = stats[\"sentences\"]+1\n",
    "        for token in tokenizer.tokenize(sentence):\n",
    "            stats[\"words\"] = stats[\"words\"]+1\n",
    "            stats[\"syllables\"] = stats[\"syllables\"] + len(tokenizer.splitIntoSyllables(token))\n",
    "            stats[\"characters\"] = stats[\"characters\"]+len(token)\n",
    "            uniqueWords.add(token)\n",
    "            \n",
    "    stats[\"charactersPerWord\"] = stats[\"characters\"]/stats[\"words\"] if stats[\"words\"]  else 0 \n",
    "    stats[\"wordsPerSentence\"] = stats[\"words\"]/stats[\"sentences\"] if stats[\"sentences\"] else 0\n",
    "    stats[\"uniqueWords\"] = len(uniqueWords)\n",
    "    stats[\"uniqueWordsRatio\"] = len(uniqueWords)/stats[\"words\"] if stats[\"words\"]  else 0\n",
    "    stats[\"syllablesPerWord\"] =  stats[\"syllables\"]/stats[\"words\"] if stats[\"words\"]  else 0\n",
    "    stats[\"flesch-kincaid\"]= 0.39* stats[\"wordsPerSentence\"] + 11.8* stats[\"syllablesPerWord\"] -15.59\n",
    "    return stats\n"
   ]
  },
  {
   "cell_type": "code",
   "execution_count": 5,
   "metadata": {},
   "outputs": [],
   "source": [
    "def computeStatsForFolder(folder):\n",
    "    print(folder)\n",
    "    docs= loadDocsFromFolder(folder)\n",
    "\n",
    "    statsSum=None\n",
    "    for dkey in tqdm_notebook(docs):\n",
    "        docStats = computeStatsForDoc(docs[dkey])\n",
    "        #print(docStats)\n",
    "        if statsSum is None:\n",
    "            statsSum = docStats\n",
    "\n",
    "        else:\n",
    "            for key in docStats:\n",
    "                statsSum[key] = statsSum[key] + docStats[key]\n",
    "        #print(statsSum)\n",
    "    statsAvg={}\n",
    "    for key in statsSum:\n",
    "        statsAvg[key] = statsSum[key]/ len(docs)\n",
    "    return statsAvg"
   ]
  },
  {
   "cell_type": "code",
   "execution_count": 6,
   "metadata": {},
   "outputs": [
    {
     "name": "stdout",
     "output_type": "stream",
     "text": [
      "../data/readabilityCorpora/wizenoze/raw/en/EN1/\n"
     ]
    },
    {
     "data": {
      "application/vnd.jupyter.widget-view+json": {
       "model_id": "f2b0a1ad960a4f3abcb14c4c8f9757b2",
       "version_major": 2,
       "version_minor": 0
      },
      "text/plain": [
       "HBox(children=(IntProgress(value=0, max=151), HTML(value='')))"
      ]
     },
     "metadata": {},
     "output_type": "display_data"
    },
    {
     "name": "stdout",
     "output_type": "stream",
     "text": [
      "\n"
     ]
    },
    {
     "data": {
      "text/plain": [
       "{'words': 34.66887417218543,\n",
       " 'sentences': 3.033112582781457,\n",
       " 'characters': 142.9337748344371,\n",
       " 'syllables': 46.94039735099338,\n",
       " 'charactersPerWord': 4.307414937057523,\n",
       " 'wordsPerSentence': 11.33532008830022,\n",
       " 'uniqueWords': 27.258278145695364,\n",
       " 'uniqueWordsRatio': 0.8631695816063625,\n",
       " 'syllablesPerWord': 1.4041691750728198,\n",
       " 'flesch-kincaid': 5.3999711002963675}"
      ]
     },
     "execution_count": 6,
     "metadata": {},
     "output_type": "execute_result"
    }
   ],
   "source": [
    "computeStatsForFolder(\"../data/readabilityCorpora/wizenoze/raw/en/EN1/\")"
   ]
  },
  {
   "cell_type": "code",
   "execution_count": 7,
   "metadata": {},
   "outputs": [
    {
     "name": "stdout",
     "output_type": "stream",
     "text": [
      "../data/readabilityCorpora/wizenoze/raw/en/EN2/\n"
     ]
    },
    {
     "data": {
      "application/vnd.jupyter.widget-view+json": {
       "model_id": "66a3cd51cf2947a4b25c107f0a1e6e5c",
       "version_major": 2,
       "version_minor": 0
      },
      "text/plain": [
       "HBox(children=(IntProgress(value=0, max=43), HTML(value='')))"
      ]
     },
     "metadata": {},
     "output_type": "display_data"
    },
    {
     "name": "stdout",
     "output_type": "stream",
     "text": [
      "\n"
     ]
    },
    {
     "data": {
      "text/plain": [
       "{'words': 128.27906976744185,\n",
       " 'sentences': 10.232558139534884,\n",
       " 'characters': 538.7209302325581,\n",
       " 'syllables': 182.8372093023256,\n",
       " 'charactersPerWord': 4.156358809477928,\n",
       " 'wordsPerSentence': 14.332236101413676,\n",
       " 'uniqueWords': 78.09302325581395,\n",
       " 'uniqueWordsRatio': 0.790096803203777,\n",
       " 'syllablesPerWord': 1.407813321137804,\n",
       " 'flesch-kincaid': 6.611769268977423}"
      ]
     },
     "execution_count": 7,
     "metadata": {},
     "output_type": "execute_result"
    }
   ],
   "source": [
    "computeStatsForFolder(\"../data/readabilityCorpora/wizenoze/raw/en/EN2/\")"
   ]
  },
  {
   "cell_type": "code",
   "execution_count": 8,
   "metadata": {},
   "outputs": [
    {
     "name": "stdout",
     "output_type": "stream",
     "text": [
      "../data/readabilityCorpora/wizenoze/raw/en/EN3/\n"
     ]
    },
    {
     "data": {
      "application/vnd.jupyter.widget-view+json": {
       "model_id": "b8a6639be4df4f2989ec278287140c11",
       "version_major": 2,
       "version_minor": 0
      },
      "text/plain": [
       "HBox(children=(IntProgress(value=0, max=94), HTML(value='')))"
      ]
     },
     "metadata": {},
     "output_type": "display_data"
    },
    {
     "name": "stdout",
     "output_type": "stream",
     "text": [
      "\n"
     ]
    },
    {
     "data": {
      "text/plain": [
       "{'words': 67.0,\n",
       " 'sentences': 4.9787234042553195,\n",
       " 'characters': 286.1063829787234,\n",
       " 'syllables': 95.59574468085107,\n",
       " 'charactersPerWord': 4.353386921583693,\n",
       " 'wordsPerSentence': 13.62675155813454,\n",
       " 'uniqueWords': 47.797872340425535,\n",
       " 'uniqueWordsRatio': 0.7867133919875493,\n",
       " 'syllablesPerWord': 1.4350187981930251,\n",
       " 'flesch-kincaid': 6.657654926350162}"
      ]
     },
     "execution_count": 8,
     "metadata": {},
     "output_type": "execute_result"
    }
   ],
   "source": [
    "computeStatsForFolder(\"../data/readabilityCorpora/wizenoze/raw/en/EN3/\")"
   ]
  },
  {
   "cell_type": "code",
   "execution_count": 9,
   "metadata": {},
   "outputs": [
    {
     "name": "stdout",
     "output_type": "stream",
     "text": [
      "../data/readabilityCorpora/wizenoze/raw/en/EN4/\n"
     ]
    },
    {
     "data": {
      "application/vnd.jupyter.widget-view+json": {
       "model_id": "0d4a9b1c21c54688899046267d1654e7",
       "version_major": 2,
       "version_minor": 0
      },
      "text/plain": [
       "HBox(children=(IntProgress(value=0, max=440), HTML(value='')))"
      ]
     },
     "metadata": {},
     "output_type": "display_data"
    },
    {
     "name": "stdout",
     "output_type": "stream",
     "text": [
      "\n"
     ]
    },
    {
     "data": {
      "text/plain": [
       "{'words': 266.5977272727273,\n",
       " 'sentences': 16.62272727272727,\n",
       " 'characters': 1196.3045454545454,\n",
       " 'syllables': 403.85,\n",
       " 'charactersPerWord': 4.477811905010399,\n",
       " 'wordsPerSentence': 16.055585334905828,\n",
       " 'uniqueWords': 142.08636363636364,\n",
       " 'uniqueWordsRatio': 0.6479923348642399,\n",
       " 'syllablesPerWord': 1.5235489140723022,\n",
       " 'flesch-kincaid': 8.649555466666436}"
      ]
     },
     "execution_count": 9,
     "metadata": {},
     "output_type": "execute_result"
    }
   ],
   "source": [
    "computeStatsForFolder(\"../data/readabilityCorpora/wizenoze/raw/en/EN4/\")"
   ]
  },
  {
   "cell_type": "code",
   "execution_count": 10,
   "metadata": {},
   "outputs": [
    {
     "name": "stdout",
     "output_type": "stream",
     "text": [
      "../data/readabilityCorpora/wizenoze/raw/en/EN5/\n"
     ]
    },
    {
     "data": {
      "application/vnd.jupyter.widget-view+json": {
       "model_id": "829b643a3d8443eb82208851f0555c2c",
       "version_major": 2,
       "version_minor": 0
      },
      "text/plain": [
       "HBox(children=(IntProgress(value=0, max=267), HTML(value='')))"
      ]
     },
     "metadata": {},
     "output_type": "display_data"
    },
    {
     "name": "stdout",
     "output_type": "stream",
     "text": [
      "\n"
     ]
    },
    {
     "data": {
      "text/plain": [
       "{'words': 801.8352059925094,\n",
       " 'sentences': 35.87265917602996,\n",
       " 'characters': 3630.4644194756556,\n",
       " 'syllables': 1221.7191011235955,\n",
       " 'charactersPerWord': 4.5114086610034825,\n",
       " 'wordsPerSentence': 21.33254436344231,\n",
       " 'uniqueWords': 328.6367041198502,\n",
       " 'uniqueWordsRatio': 0.5521822430529146,\n",
       " 'syllablesPerWord': 1.5282446345148273,\n",
       " 'flesch-kincaid': 10.762978989017464}"
      ]
     },
     "execution_count": 10,
     "metadata": {},
     "output_type": "execute_result"
    }
   ],
   "source": [
    "computeStatsForFolder(\"../data/readabilityCorpora/wizenoze/raw/en/EN5/\")"
   ]
  },
  {
   "cell_type": "code",
   "execution_count": null,
   "metadata": {},
   "outputs": [],
   "source": []
  },
  {
   "cell_type": "code",
   "execution_count": 11,
   "metadata": {},
   "outputs": [
    {
     "name": "stdout",
     "output_type": "stream",
     "text": [
      "../data/readabilityCorpora/wizenoze/raw/du/NL1/\n"
     ]
    },
    {
     "data": {
      "application/vnd.jupyter.widget-view+json": {
       "model_id": "928da6dc136b4fe99cab8e5b09148ddb",
       "version_major": 2,
       "version_minor": 0
      },
      "text/plain": [
       "HBox(children=(IntProgress(value=0, max=21), HTML(value='')))"
      ]
     },
     "metadata": {},
     "output_type": "display_data"
    },
    {
     "name": "stdout",
     "output_type": "stream",
     "text": [
      "\n"
     ]
    },
    {
     "data": {
      "text/plain": [
       "{'words': 6.0,\n",
       " 'sentences': 1.2857142857142858,\n",
       " 'characters': 22.904761904761905,\n",
       " 'syllables': 7.380952380952381,\n",
       " 'charactersPerWord': 4.297496776488373,\n",
       " 'wordsPerSentence': 3.880952380952381,\n",
       " 'uniqueWords': 5.380952380952381,\n",
       " 'uniqueWordsRatio': 0.9819927971188476,\n",
       " 'syllablesPerWord': 1.3577564359076963,\n",
       " 'flesch-kincaid': 1.9450973722822469}"
      ]
     },
     "execution_count": 11,
     "metadata": {},
     "output_type": "execute_result"
    }
   ],
   "source": [
    "computeStatsForFolder(\"../data/readabilityCorpora/wizenoze/raw/du/NL1/\")"
   ]
  },
  {
   "cell_type": "code",
   "execution_count": 12,
   "metadata": {},
   "outputs": [
    {
     "name": "stdout",
     "output_type": "stream",
     "text": [
      "../data/readabilityCorpora/wizenoze/raw/du/NL2/\n"
     ]
    },
    {
     "data": {
      "application/vnd.jupyter.widget-view+json": {
       "model_id": "31dd7684b53342a09d943424fff7edf0",
       "version_major": 2,
       "version_minor": 0
      },
      "text/plain": [
       "HBox(children=(IntProgress(value=0, max=58), HTML(value='')))"
      ]
     },
     "metadata": {},
     "output_type": "display_data"
    },
    {
     "name": "stdout",
     "output_type": "stream",
     "text": [
      "\n"
     ]
    },
    {
     "data": {
      "text/plain": [
       "{'words': 135.55172413793105,\n",
       " 'sentences': 13.775862068965518,\n",
       " 'characters': 545.948275862069,\n",
       " 'syllables': 171.06896551724137,\n",
       " 'charactersPerWord': 4.655579168067991,\n",
       " 'wordsPerSentence': 8.543603132007906,\n",
       " 'uniqueWords': 61.327586206896555,\n",
       " 'uniqueWordsRatio': 0.7740024664242019,\n",
       " 'syllablesPerWord': 1.3454759534991498,\n",
       " 'flesch-kincaid': 3.6186214727730497}"
      ]
     },
     "execution_count": 12,
     "metadata": {},
     "output_type": "execute_result"
    }
   ],
   "source": [
    "computeStatsForFolder(\"../data/readabilityCorpora/wizenoze/raw/du/NL2/\")"
   ]
  },
  {
   "cell_type": "code",
   "execution_count": 13,
   "metadata": {},
   "outputs": [
    {
     "name": "stdout",
     "output_type": "stream",
     "text": [
      "../data/readabilityCorpora/wizenoze/raw/du/NL3/\n"
     ]
    },
    {
     "data": {
      "application/vnd.jupyter.widget-view+json": {
       "model_id": "57626d2f34e141319bbd5d30c62c7198",
       "version_major": 2,
       "version_minor": 0
      },
      "text/plain": [
       "HBox(children=(IntProgress(value=0, max=248), HTML(value='')))"
      ]
     },
     "metadata": {},
     "output_type": "display_data"
    },
    {
     "name": "stdout",
     "output_type": "stream",
     "text": [
      "\n"
     ]
    },
    {
     "data": {
      "text/plain": [
       "{'words': 95.43951612903226,\n",
       " 'sentences': 9.298387096774194,\n",
       " 'characters': 404.0483870967742,\n",
       " 'syllables': 126.95564516129032,\n",
       " 'charactersPerWord': 5.101676844019246,\n",
       " 'wordsPerSentence': 8.078810533166441,\n",
       " 'uniqueWords': 52.73790322580645,\n",
       " 'uniqueWordsRatio': 0.8157954283984014,\n",
       " 'syllablesPerWord': 1.4884258677954736,\n",
       " 'flesch-kincaid': 5.124161347921511}"
      ]
     },
     "execution_count": 13,
     "metadata": {},
     "output_type": "execute_result"
    }
   ],
   "source": [
    "computeStatsForFolder(\"../data/readabilityCorpora/wizenoze/raw/du/NL3/\")"
   ]
  },
  {
   "cell_type": "code",
   "execution_count": 14,
   "metadata": {},
   "outputs": [
    {
     "name": "stdout",
     "output_type": "stream",
     "text": [
      "../data/readabilityCorpora/wizenoze/raw/du/NL4/\n"
     ]
    },
    {
     "data": {
      "application/vnd.jupyter.widget-view+json": {
       "model_id": "eae3348a8d40406cad0ba8fa6f26bd51",
       "version_major": 2,
       "version_minor": 0
      },
      "text/plain": [
       "HBox(children=(IntProgress(value=0, max=426), HTML(value='')))"
      ]
     },
     "metadata": {},
     "output_type": "display_data"
    },
    {
     "name": "stdout",
     "output_type": "stream",
     "text": [
      "\n"
     ]
    },
    {
     "data": {
      "text/plain": [
       "{'words': 244.42253521126761,\n",
       " 'sentences': 22.143192488262912,\n",
       " 'characters': 1108.4530516431926,\n",
       " 'syllables': 344.5399061032864,\n",
       " 'charactersPerWord': 4.574794159842148,\n",
       " 'wordsPerSentence': 11.659315965377424,\n",
       " 'uniqueWords': 135.85915492957747,\n",
       " 'uniqueWordsRatio': 0.6195269439610605,\n",
       " 'syllablesPerWord': 1.421035898419989,\n",
       " 'flesch-kincaid': 5.725356827853065}"
      ]
     },
     "execution_count": 14,
     "metadata": {},
     "output_type": "execute_result"
    }
   ],
   "source": [
    "computeStatsForFolder(\"../data/readabilityCorpora/wizenoze/raw/du/NL4/\")"
   ]
  },
  {
   "cell_type": "code",
   "execution_count": 15,
   "metadata": {},
   "outputs": [
    {
     "name": "stdout",
     "output_type": "stream",
     "text": [
      "../data/readabilityCorpora/wizenoze/raw/du/NL5/\n"
     ]
    },
    {
     "data": {
      "application/vnd.jupyter.widget-view+json": {
       "model_id": "639c0cdc5fe94c8d9d163b6ff8c8fb3f",
       "version_major": 2,
       "version_minor": 0
      },
      "text/plain": [
       "HBox(children=(IntProgress(value=0, max=242), HTML(value='')))"
      ]
     },
     "metadata": {},
     "output_type": "display_data"
    },
    {
     "name": "stdout",
     "output_type": "stream",
     "text": [
      "\n"
     ]
    },
    {
     "data": {
      "text/plain": [
       "{'words': 419.2809917355372,\n",
       " 'sentences': 34.396694214876035,\n",
       " 'characters': 1976.9256198347107,\n",
       " 'syllables': 608.0826446280992,\n",
       " 'charactersPerWord': 4.890408188209587,\n",
       " 'wordsPerSentence': 11.81659449712277,\n",
       " 'uniqueWords': 199.73553719008265,\n",
       " 'uniqueWordsRatio': 0.5597424165306824,\n",
       " 'syllablesPerWord': 1.4975511885018227,\n",
       " 'flesch-kincaid': 6.689575878199379}"
      ]
     },
     "execution_count": 15,
     "metadata": {},
     "output_type": "execute_result"
    }
   ],
   "source": [
    "computeStatsForFolder(\"../data/readabilityCorpora/wizenoze/raw/du/NL5/\")"
   ]
  },
  {
   "cell_type": "code",
   "execution_count": null,
   "metadata": {},
   "outputs": [],
   "source": []
  }
 ],
 "metadata": {
  "kernelspec": {
   "display_name": "Python 3",
   "language": "python",
   "name": "python3"
  },
  "language_info": {
   "codemirror_mode": {
    "name": "ipython",
    "version": 3
   },
   "file_extension": ".py",
   "mimetype": "text/x-python",
   "name": "python",
   "nbconvert_exporter": "python",
   "pygments_lexer": "ipython3",
   "version": "3.7.0"
  }
 },
 "nbformat": 4,
 "nbformat_minor": 2
}
